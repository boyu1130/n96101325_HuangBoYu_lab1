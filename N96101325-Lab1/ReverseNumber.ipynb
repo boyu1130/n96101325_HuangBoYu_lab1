{
 "cells": [
  {
   "cell_type": "code",
   "execution_count": 3,
   "id": "0195a050",
   "metadata": {},
   "outputs": [
    {
     "name": "stdin",
     "output_type": "stream",
     "text": [
      "Enter an integer: 123\n"
     ]
    },
    {
     "name": "stdout",
     "output_type": "stream",
     "text": [
      "321\n"
     ]
    }
   ],
   "source": [
    "def reverse(num):\n",
    "    return num[::-1]\n",
    "\n",
    "rev=reverse(input('Enter an integer:'))#輸入數字並反轉\n",
    "print(int(rev))"
   ]
  }
 ],
 "metadata": {
  "kernelspec": {
   "display_name": "Python 3",
   "language": "python",
   "name": "python3"
  },
  "language_info": {
   "codemirror_mode": {
    "name": "ipython",
    "version": 3
   },
   "file_extension": ".py",
   "mimetype": "text/x-python",
   "name": "python",
   "nbconvert_exporter": "python",
   "pygments_lexer": "ipython3",
   "version": "3.8.8"
  }
 },
 "nbformat": 4,
 "nbformat_minor": 5
}

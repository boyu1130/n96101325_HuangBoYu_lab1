{
 "cells": [
  {
   "cell_type": "code",
   "execution_count": 1,
   "id": "46881cf0",
   "metadata": {},
   "outputs": [],
   "source": [
    "def remove_outliers():\n",
    "    num=int(input('Enter the number of smallest and largest values to remove:'))#選擇去掉的個數\n",
    "    value_list=[]\n",
    "    k=input('Enter a value (q or Q to quit):')\n",
    "    while(k!='q' and k!='Q'):#輸入數值並加入停止條件\n",
    "        value_list.append(int(k))\n",
    "        k=input('Enter a value (q or Q to quit):')\n",
    "    final_num=sorted(value_list)#排序\n",
    "    print('The original data:',final_num)#輸出\n",
    "    list_1=final_num[num:len(value_list)-num]\n",
    "    print('The data with the outliers removed:',final_num[num:len(value_list)-num])#輸出\n",
    "    list_2=list(set(final_num)-set(list_1))\n",
    "    print('The outliers:',list_2)#輸出"
   ]
  },
  {
   "cell_type": "code",
   "execution_count": 2,
   "id": "4df80754-4324-49aa-ad6b-61dfafd2b313",
   "metadata": {},
   "outputs": [
    {
     "name": "stdin",
     "output_type": "stream",
     "text": [
      "Enter the number of smallest and largest values to remove: 1\n",
      "Enter a value (q or Q to quit): 1\n",
      "Enter a value (q or Q to quit): 2\n",
      "Enter a value (q or Q to quit): 3\n",
      "Enter a value (q or Q to quit): 4\n",
      "Enter a value (q or Q to quit): 5\n",
      "Enter a value (q or Q to quit): 6\n",
      "Enter a value (q or Q to quit): 7\n",
      "Enter a value (q or Q to quit): 8\n",
      "Enter a value (q or Q to quit): 9\n",
      "Enter a value (q or Q to quit): q\n"
     ]
    },
    {
     "name": "stdout",
     "output_type": "stream",
     "text": [
      "The original data: [1, 2, 3, 4, 5, 6, 7, 8, 9]\n",
      "The data with the outliers removed: [2, 3, 4, 5, 6, 7, 8]\n",
      "The outliers: [1, 9]\n"
     ]
    }
   ],
   "source": [
    "remove_outliers()"
   ]
  }
 ],
 "metadata": {
  "kernelspec": {
   "display_name": "Python 3",
   "language": "python",
   "name": "python3"
  },
  "language_info": {
   "codemirror_mode": {
    "name": "ipython",
    "version": 3
   },
   "file_extension": ".py",
   "mimetype": "text/x-python",
   "name": "python",
   "nbconvert_exporter": "python",
   "pygments_lexer": "ipython3",
   "version": "3.8.8"
  }
 },
 "nbformat": 4,
 "nbformat_minor": 5
}

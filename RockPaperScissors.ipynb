{
 "cells": [
  {
   "cell_type": "code",
   "execution_count": 1,
   "id": "c4616a1a",
   "metadata": {},
   "outputs": [
    {
     "name": "stdout",
     "output_type": "stream",
     "text": [
      "Welcome to ROCK, PAPER, SCISSORS game!\n"
     ]
    },
    {
     "name": "stdin",
     "output_type": "stream",
     "text": [
      "Enter your move: (r)ock (p)aper (s)cissors R\n"
     ]
    },
    {
     "name": "stdout",
     "output_type": "stream",
     "text": [
      "Error Input\n"
     ]
    },
    {
     "name": "stdin",
     "output_type": "stream",
     "text": [
      "Enter your move: (r)ock (p)aper (s)cissors r\n"
     ]
    },
    {
     "name": "stdout",
     "output_type": "stream",
     "text": [
      "ROCK versus...\n",
      "SCISSORS!\n",
      "You win!\n",
      "You have 0 ties and 0 losses before your first win.\n"
     ]
    }
   ],
   "source": [
    "import random\n",
    "print('Welcome to ROCK, PAPER, SCISSORS game!')\n",
    "ties=0 #統計平手與輸的次數\n",
    "losses=0\n",
    "#迴圈,贏了停止\n",
    "while True:\n",
    "    me=input('Enter your move: (r)ock (p)aper (s)cissors')#使用者出拳\n",
    "    x = random.randint(1,3)#電腦出拳(隨機)\n",
    "    if x==1:#定義r,p,s\n",
    "        computer='r'\n",
    "    elif x==2:\n",
    "        computer='p'\n",
    "    elif x==3:\n",
    "        computer='s' \n",
    "    if me =='r'and computer=='r':\n",
    "        print('ROCK versus...')\n",
    "        print('ROCK!')\n",
    "        print('It is a tie!')\n",
    "        ties+=1\n",
    "    elif me =='r'and computer=='p':\n",
    "        print('ROCK versus...')\n",
    "        print('PAPER')\n",
    "        print('You lose!')\n",
    "        losses+=1\n",
    "    elif me =='r'and computer=='s':\n",
    "        print('ROCK versus...')\n",
    "        print('SCISSORS!')\n",
    "        print('You win!')\n",
    "        print('You have',ties,'ties and',losses,'losses before your first win.')\n",
    "        break\n",
    "    elif me =='p'and computer=='s':\n",
    "        print('PAPER versus...')\n",
    "        print('SCISSORS!')\n",
    "        print('You lose!')\n",
    "        losses+=1\n",
    "    elif me =='p'and computer=='p':\n",
    "        print('PAPER versus...')\n",
    "        print('PAPER')\n",
    "        print('It is a tie!')\n",
    "        ties+=1\n",
    "    elif me =='p'and computer=='r':\n",
    "        print('PAPER versus...')\n",
    "        print('ROCK!')\n",
    "        print('You win!')\n",
    "        print('You have',ties,'ties and',losses,'losses before your first win.')\n",
    "        break\n",
    "    elif me =='s'and computer=='r':\n",
    "        print('SCISSORS versus...')\n",
    "        print('ROCK!')\n",
    "        print('You lose!')\n",
    "        losses+=1\n",
    "    elif me =='s'and computer=='s':\n",
    "        print('SCISSORS versus...')\n",
    "        print('SCISSORS!')\n",
    "        print('It is a tie!')\n",
    "        ties+=1\n",
    "    elif me =='s'and computer=='p':\n",
    "        print('SCISSORS versus...')\n",
    "        print('PAPER')\n",
    "        print('You win!')\n",
    "        print('You have',ties,'ties and',losses,'losses before your first win.')\n",
    "        break\n",
    "    else:\n",
    "        print('Error Input')#輸入的字元不是r,p,s其中之一"
   ]
  }
 ],
 "metadata": {
  "kernelspec": {
   "display_name": "Python 3",
   "language": "python",
   "name": "python3"
  },
  "language_info": {
   "codemirror_mode": {
    "name": "ipython",
    "version": 3
   },
   "file_extension": ".py",
   "mimetype": "text/x-python",
   "name": "python",
   "nbconvert_exporter": "python",
   "pygments_lexer": "ipython3",
   "version": "3.8.8"
  }
 },
 "nbformat": 4,
 "nbformat_minor": 5
}
